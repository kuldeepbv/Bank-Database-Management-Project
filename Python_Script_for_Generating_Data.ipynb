{
 "cells": [
  {
   "cell_type": "markdown",
   "metadata": {},
   "source": [
    "## Importing the Libraries"
   ]
  },
  {
   "cell_type": "code",
   "execution_count": 112,
   "metadata": {},
   "outputs": [],
   "source": [
    "from faker import Faker\n",
    "import csv\n",
    "import random\n",
    "import re"
   ]
  },
  {
   "cell_type": "code",
   "execution_count": 113,
   "metadata": {},
   "outputs": [],
   "source": [
    "fake = Faker()"
   ]
  },
  {
   "cell_type": "markdown",
   "metadata": {},
   "source": [
    "## Function for formatting the Phone Number"
   ]
  },
  {
   "cell_type": "code",
   "execution_count": null,
   "metadata": {},
   "outputs": [],
   "source": [
    "def format_phone_number(raw_number):\n",
    "    digits = ''.join(filter(str.isdigit, raw_number))\n",
    "    formatted_number = f\"({digits[:3]}) {digits[3:6]}-{digits[6:]}\"\n",
    "    formatted_number = '{:0>10}'.format(digits[-10:])\n",
    "    cleaned_number = re.sub(r'\\D', '', formatted_number)\n",
    "    formatted_number = re.sub(r'(\\d{3})(\\d{3})(\\d{4})', r'\\1-\\2-\\3', cleaned_number)\n",
    "    return formatted_number"
   ]
  },
  {
   "cell_type": "markdown",
   "metadata": {},
   "source": [
    "## Generating Data for Manager Table"
   ]
  },
  {
   "cell_type": "code",
   "execution_count": 114,
   "metadata": {},
   "outputs": [],
   "source": [
    "manager_data = []\n",
    "man_id_list = []\n",
    "man_fname = []\n",
    "man_lname = []\n",
    "for i in range(5):\n",
    "    Manager_id = i + 1001  \n",
    "    First_name = fake.first_name()\n",
    "    Last_name = fake.last_name()\n",
    "\n",
    "    man_id_list.append(Manager_id)\n",
    "    man_fname.append(First_name)\n",
    "    man_lname.append(Last_name) \n",
    "\n",
    "    manager_data.append((Manager_id,First_name,Last_name))"
   ]
  },
  {
   "cell_type": "code",
   "execution_count": 2,
   "metadata": {},
   "outputs": [],
   "source": [
    "with open('manager_data.csv', mode='w', newline='') as file:\n",
    "    writer = csv.writer(file)\n",
    "    writer.writerow(['Manager_Id', 'First_name', 'Last_name'])  \n",
    "    writer.writerows(manager_data)"
   ]
  },
  {
   "cell_type": "markdown",
   "metadata": {},
   "source": [
    "## Generating Data for Branch Table"
   ]
  },
  {
   "cell_type": "code",
   "execution_count": 116,
   "metadata": {},
   "outputs": [],
   "source": [
    "branch_data = []\n",
    "bid = []\n",
    "bname = ['Chicago Main', 'Barclay St', 'Willow Station', 'Detroit Main', 'Weatherford']\n",
    "b_add = ['10 S Dearborn, Chicago, IL 60603', '240 B Greenwich St, New York, NY 10007', '1117 N Willow Ave, Clovis, CA 93611', '611 Woodward Ave, Detroit, MI 48226', '225 E Interstate 20, Weatherford, TX 76086']\n",
    "b_ph_no = []\n",
    "for i in range(5):\n",
    "    Branch_id = i + 201  \n",
    "    Branch_name = bname[i]\n",
    "    Address = b_add[i]\n",
    "    phone_number = fake.phone_number()\n",
    "    Phone_Number = format_phone_number(phone_number)\n",
    "    manager_id = man_id_list[i]\n",
    "\n",
    "    bid.append(Branch_id)\n",
    "    b_ph_no.append(Phone_Number)\n",
    "\n",
    "    branch_data.append((Branch_id,Branch_name,Address,Phone_Number,manager_id))"
   ]
  },
  {
   "cell_type": "code",
   "execution_count": 3,
   "metadata": {},
   "outputs": [],
   "source": [
    "with open('branch_data.csv', mode='w', newline='') as file:\n",
    "    writer = csv.writer(file)\n",
    "    writer.writerow(['Branch_Id', 'Branch_name', 'Address', 'Phone_Number', 'Manager_Id'])  \n",
    "    writer.writerows(branch_data)"
   ]
  },
  {
   "cell_type": "markdown",
   "metadata": {},
   "source": [
    "## Generating Data for Customer Table"
   ]
  },
  {
   "cell_type": "code",
   "execution_count": 130,
   "metadata": {},
   "outputs": [],
   "source": [
    "cust_data = []\n",
    "cid = []\n",
    "cust_fname = []\n",
    "cust_lname = []\n",
    "cust_add = []\n",
    "cust_dob = []\n",
    "cust_ph_no = []\n",
    "for i in range(10000):\n",
    "    customer_id = random.randint(10000000, 99999999) # 8 Digit\n",
    "    first_name = fake.first_name()\n",
    "    last_name = fake.last_name()\n",
    "    address = f\"{fake.building_number()} {fake.street_name()}, {fake.city()}, {fake.state_abbr()} {fake.zipcode()}\"\n",
    "    branch_id = random.choice(bid)\n",
    "    date_of_birth = fake.date_of_birth(minimum_age=18, maximum_age=90)\n",
    "    date_of_birth = date_of_birth.strftime(\"%Y-%m-%d\")\n",
    "    phone_number = fake.phone_number()\n",
    "    phone_number = format_phone_number(phone_number)\n",
    "\n",
    "    cid.append(customer_id)\n",
    "    cust_fname.append(first_name)\n",
    "    cust_lname.append(last_name)\n",
    "    cust_add.append(address)\n",
    "    cust_dob.append(date_of_birth)\n",
    "    cust_ph_no.append(phone_number)\n",
    "\n",
    "    cust_data.append((customer_id,first_name,last_name,address,branch_id,date_of_birth,phone_number))"
   ]
  },
  {
   "cell_type": "code",
   "execution_count": 131,
   "metadata": {},
   "outputs": [],
   "source": [
    "with open('customer_data.csv', mode='w', newline='') as file:\n",
    "    writer = csv.writer(file)\n",
    "    writer.writerow(['Customer_Id', 'First_Name', 'Last_nName', 'Address', 'Branch_Id', 'Date-of-Birth', 'Phone_Number'])  \n",
    "    writer.writerows(cust_data)"
   ]
  },
  {
   "cell_type": "markdown",
   "metadata": {},
   "source": [
    "## Generating Data for Loan Table"
   ]
  },
  {
   "cell_type": "code",
   "execution_count": 142,
   "metadata": {},
   "outputs": [],
   "source": [
    "loan_data = []\n",
    "loan_id_list = []\n",
    "loan_amount_list = []\n",
    "loan_customers = []\n",
    "int_rate_list = []\n",
    "status_list = ['Approved', 'Pending', 'Rejected']\n",
    "for i in range(3000):\n",
    "    loan_id = i + 8426001 # 7 Digit\n",
    "    loan_amount = random.randint(100, 50000)\n",
    "    cust_id = random.choice(cid)\n",
    "    interest = round(random.uniform(0, 8), 2)\n",
    "    status = random.choice(status_list)\n",
    "\n",
    "    loan_id_list.append(loan_id)\n",
    "    loan_amount_list.append(loan_amount)\n",
    "    int_rate_list.append(interest)\n",
    "\n",
    "    loan_data.append((loan_id,loan_amount,cust_id,interest,status))"
   ]
  },
  {
   "cell_type": "code",
   "execution_count": 143,
   "metadata": {},
   "outputs": [],
   "source": [
    "with open('loan_data.csv', mode='w', newline='') as file:\n",
    "    writer = csv.writer(file)\n",
    "    writer.writerow(['Loan_Id', 'Loan_Amount', 'Customer_Id', 'Interest_rate', 'Status'])  \n",
    "    writer.writerows(loan_data)"
   ]
  },
  {
   "cell_type": "markdown",
   "metadata": {},
   "source": [
    "## Generating Data for Account_info Table"
   ]
  },
  {
   "cell_type": "code",
   "execution_count": 144,
   "metadata": {},
   "outputs": [],
   "source": [
    "account_info_data = []\n",
    "acc_no_list = []\n",
    "acc_type_list = ['Checking', 'Savings']\n",
    "Account_Status = ['Active', 'Inactive']\n",
    "cust_status_list = []\n",
    "cust_acc_type_list = []\n",
    "for i in range(10000):\n",
    "    acc_no = i + 7387323001 # 10 Digit\n",
    "    cust_id = cid[i]\n",
    "    cust_acc_type = random.choice(acc_type_list)\n",
    "    cust_status = 'Active'\n",
    "    \n",
    "    if random.random() < 0.1:  \n",
    "        cust_status = 'Inactive'\n",
    "    \n",
    "    cust_acc_type_list.append(cust_acc_type)\n",
    "    acc_no_list.append(acc_no)\n",
    "    cust_status_list.append(cust_status)\n",
    "\n",
    "    account_info_data.append((acc_no, cust_id, cust_acc_type, cust_status))"
   ]
  },
  {
   "cell_type": "code",
   "execution_count": 145,
   "metadata": {},
   "outputs": [],
   "source": [
    "for i in range(3000):\n",
    "    acc_no = i + 7387333001 # 10 Digit\n",
    "    cust_id = random.choice(cid)\n",
    "    cust_status = 'Active'\n",
    "    \n",
    "    if random.random() < 0.1:  \n",
    "        cust_status = 'Inactive'\n",
    "\n",
    "    if cust_acc_type_list[cid.index(cust_id)] == 'Savings':\n",
    "        cust_acc_type = 'Checking'\n",
    "    elif cust_acc_type_list[cid.index(cust_id)] == 'Checking':\n",
    "        cust_acc_type = 'Savings'\n",
    "\n",
    "    acc_no_list.append(acc_no)\n",
    "    cust_acc_type_list.append(cust_acc_type)\n",
    "    cust_status_list.append(cust_status)\n",
    "\n",
    "    account_info_data.append((acc_no, cust_id, cust_acc_type, cust_status))"
   ]
  },
  {
   "cell_type": "code",
   "execution_count": 146,
   "metadata": {},
   "outputs": [],
   "source": [
    "for i in range(3000):\n",
    "    acc_no = i + 7387336001 # 10 Digit\n",
    "    cust_id = random.choice(cid)\n",
    "    cust_acc_type = random.choice(acc_type_list)\n",
    "    cust_status = 'Active'\n",
    "    \n",
    "    if random.random() < 0.1:  \n",
    "        cust_status = 'Inactive'\n",
    "    \n",
    "    cust_acc_type_list.append(cust_acc_type)\n",
    "    acc_no_list.append(acc_no)\n",
    "    cust_status_list.append(cust_status)\n",
    "\n",
    "    account_info_data.append((acc_no, cust_id, cust_acc_type, cust_status))"
   ]
  },
  {
   "cell_type": "code",
   "execution_count": 147,
   "metadata": {},
   "outputs": [],
   "source": [
    "with open('account_info_data.csv', mode='w', newline='') as file:\n",
    "    writer = csv.writer(file)\n",
    "    writer.writerow(['Account_Number', 'Customer_Id', 'Account_type', 'Account_Status'])  \n",
    "    writer.writerows(account_info_data)"
   ]
  },
  {
   "cell_type": "markdown",
   "metadata": {},
   "source": [
    "## Generating Data for Account_balance Table"
   ]
  },
  {
   "cell_type": "code",
   "execution_count": 148,
   "metadata": {},
   "outputs": [],
   "source": [
    "account_balance_data = []\n",
    "acc_balance_list = []\n",
    "for i in range(16000):\n",
    "    account_no = acc_no_list[i]\n",
    "    acc_balance = random.randint(0,100000)\n",
    "\n",
    "    acc_balance_list.append(acc_balance)\n",
    "\n",
    "    account_balance_data.append((account_no,acc_balance))"
   ]
  },
  {
   "cell_type": "code",
   "execution_count": 149,
   "metadata": {},
   "outputs": [],
   "source": [
    "with open('account_balance_data.csv', mode='w', newline='') as file:\n",
    "    writer = csv.writer(file)\n",
    "    writer.writerow(['Account_Number', 'Balance'])  \n",
    "    writer.writerows(account_balance_data)"
   ]
  },
  {
   "cell_type": "markdown",
   "metadata": {},
   "source": [
    "## Saving the data from txt we generated manually to Employee_pos Table"
   ]
  },
  {
   "cell_type": "code",
   "execution_count": 104,
   "metadata": {},
   "outputs": [],
   "source": [
    "with open('employee_pos.txt', 'r') as text_file:\n",
    "    lines = text_file.readlines()\n",
    "\n",
    "data = [line.strip().strip(\"(),\") for line in lines]\n",
    "\n",
    "with open('employee_pos_data.csv', 'w', newline='') as csv_file:\n",
    "    writer = csv.writer(csv_file)\n",
    "    writer.writerow(['Employee_pos', 'emp_salary']) \n",
    "    for line in data:\n",
    "        values = line.split(', ')\n",
    "        writer.writerow(values)"
   ]
  },
  {
   "cell_type": "markdown",
   "metadata": {},
   "source": [
    "## Saving the data from txt we generated manually to Employee_Info Table"
   ]
  },
  {
   "cell_type": "code",
   "execution_count": 105,
   "metadata": {},
   "outputs": [],
   "source": [
    "with open('employee_info.txt', 'r') as text_file:\n",
    "    lines = text_file.readlines()\n",
    "\n",
    "processed_data = [line.strip().replace('(', '').replace(')', '').replace(',', '') for line in lines]\n",
    "\n",
    "with open('employee_info_data.csv', 'w', newline='') as csv_file:\n",
    "    writer = csv.writer(csv_file)\n",
    "    writer.writerow(['Employee_id', 'emp_first_name', 'emp_last_name', 'emp_pos', 'emp_branch_id']) \n",
    "    for line in processed_data:\n",
    "        values = line.split()\n",
    "        writer.writerow(values)"
   ]
  }
 ],
 "metadata": {
  "kernelspec": {
   "display_name": "Python 3",
   "language": "python",
   "name": "python3"
  },
  "language_info": {
   "codemirror_mode": {
    "name": "ipython",
    "version": 3
   },
   "file_extension": ".py",
   "mimetype": "text/x-python",
   "name": "python",
   "nbconvert_exporter": "python",
   "pygments_lexer": "ipython3",
   "version": "3.11.7"
  }
 },
 "nbformat": 4,
 "nbformat_minor": 2
}
